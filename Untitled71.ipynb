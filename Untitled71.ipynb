{
  "nbformat": 4,
  "nbformat_minor": 0,
  "metadata": {
    "colab": {
      "provenance": [],
      "authorship_tag": "ABX9TyPE6Pge5Dpvhkvs2EH0FKcf",
      "include_colab_link": true
    },
    "kernelspec": {
      "name": "python3",
      "display_name": "Python 3"
    },
    "language_info": {
      "name": "python"
    }
  },
  "cells": [
    {
      "cell_type": "markdown",
      "metadata": {
        "id": "view-in-github",
        "colab_type": "text"
      },
      "source": [
        "<a href=\"https://colab.research.google.com/github/trippleooo/FACE-DET/blob/main/Untitled71.ipynb\" target=\"_parent\"><img src=\"https://colab.research.google.com/assets/colab-badge.svg\" alt=\"Open In Colab\"/></a>"
      ]
    },
    {
      "cell_type": "code",
      "source": [],
      "metadata": {
        "id": "jaG_msbLwSWt"
      },
      "execution_count": null,
      "outputs": []
    },
    {
      "cell_type": "code",
      "source": [
        "code = '''\n",
        "import streamlit as st\n",
        "import cv2\n",
        "import numpy as np\n",
        "from PIL import Image\n",
        "import io\n",
        "\n",
        "# Load the cascade classifier\n",
        "face_cascade = cv2.CascadeClassifier('haarcascade_frontalface_default.xml')\n",
        "\n",
        "def detect_faces(image, scaleFactor, minNeighbors, rect_color):\n",
        "    open_cv_image = np.array(image.convert('RGB'))\n",
        "    img = cv2.cvtColor(open_cv_image, cv2.COLOR_RGB2BGR)\n",
        "    gray = cv2.cvtColor(img, cv2.COLOR_BGR2GRAY)\n",
        "    faces = face_cascade.detectMultiScale(gray, scaleFactor=scaleFactor, minNeighbors=minNeighbors)\n",
        "    for (x, y, w, h) in faces:\n",
        "        color_bgr = (rect_color[2], rect_color[1], rect_color[0])\n",
        "        cv2.rectangle(img, (x, y), (x + w, y + h), color_bgr, 2)\n",
        "    return cv2.cvtColor(img, cv2.COLOR_BGR2RGB), len(faces)\n",
        "\n",
        "def main():\n",
        "    st.title(\"Face Detection App with Customization\")\n",
        "\n",
        "    st.markdown(\"\"\"\n",
        "    ### How to use this app:\n",
        "    1. Upload an image containing faces.\n",
        "    2. Adjust the detection parameters below if needed.\n",
        "    3. Choose the rectangle color.\n",
        "    4. View detected faces and download the resulting image.\n",
        "    \"\"\")\n",
        "\n",
        "    scaleFactor = st.slider(\"Scale Factor (image pyramid scale)\", 1.01, 2.0, 1.3, 0.01)\n",
        "    minNeighbors = st.slider(\"Min Neighbors (how many neighbors each candidate rectangle should have)\", 1, 10, 5)\n",
        "\n",
        "    rect_color = st.color_picker(\"Pick Rectangle Color\", \"#00FF00\")\n",
        "\n",
        "    uploaded_file = st.file_uploader(\"Upload an image...\", type=[\"jpg\", \"jpeg\", \"png\"])\n",
        "\n",
        "    if uploaded_file is not None:\n",
        "        image = Image.open(uploaded_file)\n",
        "        st.image(image, caption=\"Original Image\", use_column_width=True)\n",
        "\n",
        "        detected_img, faces_found = detect_faces(image, scaleFactor, minNeighbors, st.hex_to_rgb(rect_color))\n",
        "        st.image(detected_img, caption=f\"Detected {faces_found} face(s)\", use_column_width=True)\n",
        "\n",
        "        if faces_found == 0:\n",
        "            st.warning(\"No faces detected. Try changing the parameters or upload a different image.\")\n",
        "        else:\n",
        "            st.success(f\"Found {faces_found} face(s) in the image.\")\n",
        "\n",
        "            buf = io.BytesIO()\n",
        "            detected_pil = Image.fromarray(detected_img)\n",
        "            detected_pil.save(buf, format=\"PNG\")\n",
        "            byte_im = buf.getvalue()\n",
        "\n",
        "            st.download_button(\n",
        "                label=\"Download Image with Faces\",\n",
        "                data=byte_im,\n",
        "                file_name=\"detected_faces.png\",\n",
        "                mime=\"image/png\"\n",
        "            )\n",
        "\n",
        "if __name__ == \"__main__\":\n",
        "    main()\n",
        "'''\n",
        "\n",
        "with open(\"app.py\", \"w\") as f:\n",
        "    f.write(code)\n",
        "\n",
        "print(\"Saved app.py!\")\n"
      ],
      "metadata": {
        "colab": {
          "base_uri": "https://localhost:8080/"
        },
        "id": "q8ZiTpqEwM_-",
        "outputId": "0d167c10-eb24-4c3c-dcf3-24e762b40200"
      },
      "execution_count": 15,
      "outputs": [
        {
          "output_type": "stream",
          "name": "stdout",
          "text": [
            "Saved app.py!\n"
          ]
        }
      ]
    }
  ]
}